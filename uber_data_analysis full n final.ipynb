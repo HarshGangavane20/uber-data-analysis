{
 "cells": [
  {
   "cell_type": "markdown",
   "id": "7da5ff6e",
   "metadata": {},
   "source": [
    "# Uber Data Analysis\n",
    "\n",
    "This Jupyter notebook walks you through a basic exploratory data analysis (EDA) of **Uber trip data** stored as CSV files in the specified folder on your computer.  \n",
    "The workflow is entirely **Python‐based** (using `pandas`, `numpy`, and `matplotlib`) so you can extend it freely.  \n",
    "Feel free to plug in additional steps such as geospatial mapping or machine‑learning models once the data is loaded.\n"
   ]
  },
  {
   "cell_type": "code",
   "execution_count": 1,
   "id": "dfc6c98e",
   "metadata": {},
   "outputs": [
    {
     "name": "stdout",
     "output_type": "stream",
     "text": [
      "Requirement already satisfied: pandas in c:\\users\\harsh gangavane\\appdata\\local\\programs\\python\\python311\\lib\\site-packages (2.3.0)\n",
      "Requirement already satisfied: numpy in c:\\users\\harsh gangavane\\appdata\\local\\programs\\python\\python311\\lib\\site-packages (2.3.1)\n",
      "Requirement already satisfied: matplotlib in c:\\users\\harsh gangavane\\appdata\\local\\programs\\python\\python311\\lib\\site-packages (3.10.3)\n",
      "Requirement already satisfied: python-dateutil>=2.8.2 in c:\\users\\harsh gangavane\\appdata\\roaming\\python\\python311\\site-packages (from pandas) (2.9.0.post0)\n",
      "Requirement already satisfied: pytz>=2020.1 in c:\\users\\harsh gangavane\\appdata\\local\\programs\\python\\python311\\lib\\site-packages (from pandas) (2025.2)\n",
      "Requirement already satisfied: tzdata>=2022.7 in c:\\users\\harsh gangavane\\appdata\\local\\programs\\python\\python311\\lib\\site-packages (from pandas) (2025.2)\n",
      "Requirement already satisfied: contourpy>=1.0.1 in c:\\users\\harsh gangavane\\appdata\\local\\programs\\python\\python311\\lib\\site-packages (from matplotlib) (1.3.2)\n",
      "Requirement already satisfied: cycler>=0.10 in c:\\users\\harsh gangavane\\appdata\\local\\programs\\python\\python311\\lib\\site-packages (from matplotlib) (0.12.1)\n",
      "Requirement already satisfied: fonttools>=4.22.0 in c:\\users\\harsh gangavane\\appdata\\local\\programs\\python\\python311\\lib\\site-packages (from matplotlib) (4.58.4)\n",
      "Requirement already satisfied: kiwisolver>=1.3.1 in c:\\users\\harsh gangavane\\appdata\\local\\programs\\python\\python311\\lib\\site-packages (from matplotlib) (1.4.8)\n",
      "Requirement already satisfied: packaging>=20.0 in c:\\users\\harsh gangavane\\appdata\\roaming\\python\\python311\\site-packages (from matplotlib) (25.0)\n",
      "Requirement already satisfied: pillow>=8 in c:\\users\\harsh gangavane\\appdata\\local\\programs\\python\\python311\\lib\\site-packages (from matplotlib) (11.2.1)\n",
      "Requirement already satisfied: pyparsing>=2.3.1 in c:\\users\\harsh gangavane\\appdata\\local\\programs\\python\\python311\\lib\\site-packages (from matplotlib) (3.2.3)\n",
      "Requirement already satisfied: six>=1.5 in c:\\users\\harsh gangavane\\appdata\\roaming\\python\\python311\\site-packages (from python-dateutil>=2.8.2->pandas) (1.17.0)\n"
     ]
    },
    {
     "name": "stderr",
     "output_type": "stream",
     "text": [
      "\n",
      "[notice] A new release of pip is available: 23.1.2 -> 25.1.1\n",
      "[notice] To update, run: python.exe -m pip install --upgrade pip\n"
     ]
    }
   ],
   "source": [
    "!pip install pandas numpy matplotlib\n"
   ]
  },
  {
   "cell_type": "code",
   "execution_count": 2,
   "id": "7729f3ab",
   "metadata": {},
   "outputs": [],
   "source": [
    "import os\n",
    "import glob\n",
    "from pathlib import Path\n",
    "import pandas as pd\n",
    "import numpy as np\n",
    "import matplotlib.pyplot as plt\n",
    "%matplotlib inline"
   ]
  },
  {
   "cell_type": "code",
   "execution_count": 5,
   "id": "67afead8",
   "metadata": {},
   "outputs": [
    {
     "ename": "FileNotFoundError",
     "evalue": "No CSV files found in 'C:\\\\Users\\\\harsh gangavane\\\\OneDrive\\\\Documents\\\\internship_coll[1]\\\\internship coll\\\\uber_data'. Make sure the path is correct and contains .csv files.",
     "output_type": "error",
     "traceback": [
      "\u001b[31m---------------------------------------------------------------------------\u001b[39m",
      "\u001b[31mFileNotFoundError\u001b[39m                         Traceback (most recent call last)",
      "\u001b[36mCell\u001b[39m\u001b[36m \u001b[39m\u001b[32mIn[5]\u001b[39m\u001b[32m, line 6\u001b[39m\n\u001b[32m      4\u001b[39m csv_files = glob.glob(os.path.join(folder_path, \u001b[33m\"\u001b[39m\u001b[33m*.csv\u001b[39m\u001b[33m\"\u001b[39m))\n\u001b[32m      5\u001b[39m \u001b[38;5;28;01mif\u001b[39;00m \u001b[38;5;129;01mnot\u001b[39;00m csv_files:\n\u001b[32m----> \u001b[39m\u001b[32m6\u001b[39m     \u001b[38;5;28;01mraise\u001b[39;00m \u001b[38;5;167;01mFileNotFoundError\u001b[39;00m(\u001b[33mf\u001b[39m\u001b[33m\"\u001b[39m\u001b[33mNo CSV files found in \u001b[39m\u001b[38;5;132;01m{\u001b[39;00mfolder_path\u001b[38;5;132;01m!r}\u001b[39;00m\u001b[33m. Make sure the path is correct and contains .csv files.\u001b[39m\u001b[33m\"\u001b[39m)\n\u001b[32m      8\u001b[39m \u001b[38;5;28mprint\u001b[39m(\u001b[33mf\u001b[39m\u001b[33m\"\u001b[39m\u001b[33mFound \u001b[39m\u001b[38;5;132;01m{\u001b[39;00m\u001b[38;5;28mlen\u001b[39m(csv_files)\u001b[38;5;132;01m}\u001b[39;00m\u001b[33m CSV file(s):\u001b[39m\u001b[33m\"\u001b[39m)\n\u001b[32m      9\u001b[39m \u001b[38;5;28;01mfor\u001b[39;00m f \u001b[38;5;129;01min\u001b[39;00m csv_files:\n",
      "\u001b[31mFileNotFoundError\u001b[39m: No CSV files found in 'C:\\\\Users\\\\harsh gangavane\\\\OneDrive\\\\Documents\\\\internship_coll[1]\\\\internship coll\\\\uber_data'. Make sure the path is correct and contains .csv files."
     ]
    }
   ],
   "source": [
    "# 👉 Update `folder_path` if you moved the data\n",
    "folder_path = r\"C:\\Users\\harsh gangavane\\OneDrive\\Documents\\internship_coll[1]\\internship coll\\uber_data\"\n",
    "\n",
    "csv_files = glob.glob(os.path.join(folder_path, \"*.csv\"))\n",
    "if not csv_files:\n",
    "    raise FileNotFoundError(f\"No CSV files found in {folder_path!r}. Make sure the path is correct and contains .csv files.\")\n",
    "\n",
    "print(f\"Found {len(csv_files)} CSV file(s):\")\n",
    "for f in csv_files:\n",
    "    print(Path(f).name)\n",
    "\n",
    "# Concatenate all CSVs into a single DataFrame (change encoding if needed)\n",
    "df = pd.concat((pd.read_csv(f, encoding='latin1') for f in csv_files), ignore_index=True)\n",
    "print(f\"\\nCombined shape: {df.shape}\")"
   ]
  },
  {
   "cell_type": "markdown",
   "id": "412067a3",
   "metadata": {},
   "source": [
    "## Quick Glance at the Data"
   ]
  },
  {
   "cell_type": "code",
   "execution_count": null,
   "id": "023ed336",
   "metadata": {},
   "outputs": [],
   "source": [
    "df.head()"
   ]
  },
  {
   "cell_type": "code",
   "execution_count": null,
   "id": "70fec281",
   "metadata": {},
   "outputs": [],
   "source": [
    "df.info()"
   ]
  },
  {
   "cell_type": "code",
   "execution_count": null,
   "id": "7bbb0fb1",
   "metadata": {},
   "outputs": [],
   "source": [
    "df.describe(include='all').T"
   ]
  },
  {
   "cell_type": "markdown",
   "id": "682f61d4",
   "metadata": {},
   "source": [
    "## Missing Values per Column"
   ]
  },
  {
   "cell_type": "code",
   "execution_count": null,
   "id": "53b6b64d",
   "metadata": {},
   "outputs": [],
   "source": [
    "df.isna().sum().sort_values(ascending=False)"
   ]
  },
  {
   "cell_type": "markdown",
   "id": "f815abca",
   "metadata": {},
   "source": [
    "## Datetime Parsing\n",
    "Most Uber trip datasets contain a pickup timestamp such as `Pickup_datetime` or `date/time`. Update the column name below if yours differs."
   ]
  },
  {
   "cell_type": "code",
   "execution_count": null,
   "id": "dd1819ef",
   "metadata": {},
   "outputs": [],
   "source": [
    "# Replace 'Pickup_datetime' with your actual column name\n",
    "datetime_col = 'Pickup_datetime'\n",
    "if datetime_col not in df.columns:\n",
    "    raise KeyError(f\"{datetime_col} column not found. Please replace it with the correct column name.\")\n",
    "\n",
    "df[datetime_col] = pd.to_datetime(df[datetime_col])\n",
    "df['date'] = df[datetime_col].dt.date\n",
    "df['hour'] = df[datetime_col].dt.hour\n",
    "df['day_of_week'] = df[datetime_col].dt.day_name()\n",
    "df.head()"
   ]
  },
  {
   "cell_type": "markdown",
   "id": "46875c96",
   "metadata": {},
   "source": [
    "## Trip Count per Day"
   ]
  },
  {
   "cell_type": "code",
   "execution_count": null,
   "id": "3554858e",
   "metadata": {},
   "outputs": [],
   "source": [
    "trips_per_day = df.groupby('date').size()\n",
    "trips_per_day.plot(figsize=(12,4))\n",
    "plt.title('Uber Trips per Day')\n",
    "plt.ylabel('Trips')\n",
    "plt.xlabel('Date')\n",
    "plt.tight_layout()"
   ]
  },
  {
   "cell_type": "markdown",
   "id": "5cb77068",
   "metadata": {},
   "source": [
    "## Distribution by Hour of Day"
   ]
  },
  {
   "cell_type": "code",
   "execution_count": null,
   "id": "412fa2e2",
   "metadata": {},
   "outputs": [],
   "source": [
    "df['hour'].value_counts().sort_index().plot(kind='bar', figsize=(12,4))\n",
    "plt.title('Trips by Hour of Day')\n",
    "plt.xlabel('Hour')\n",
    "plt.ylabel('Trips')\n",
    "plt.tight_layout()"
   ]
  },
  {
   "cell_type": "markdown",
   "id": "3ff75f8e",
   "metadata": {},
   "source": [
    "## Heatmap: Day of Week vs Hour"
   ]
  },
  {
   "cell_type": "code",
   "execution_count": null,
   "id": "6091e453",
   "metadata": {},
   "outputs": [],
   "source": [
    "pivot = df.pivot_table(index='day_of_week', columns='hour', values=datetime_col, aggfunc='count')\n",
    "pivot = pivot.reindex(['Monday','Tuesday','Wednesday','Thursday','Friday','Saturday','Sunday'])  # for ordered weekdays\n",
    "plt.figure(figsize=(12,6))\n",
    "plt.imshow(pivot, aspect='auto')\n",
    "plt.colorbar(label='Trip Count')\n",
    "plt.xticks(ticks=np.arange(0,24,1), labels=np.arange(0,24,1))\n",
    "plt.yticks(ticks=np.arange(7), labels=pivot.index)\n",
    "plt.title('Trips by Hour and Day of Week')\n",
    "plt.xlabel('Hour of Day')\n",
    "plt.ylabel('Day of Week')\n",
    "plt.tight_layout()"
   ]
  },
  {
   "cell_type": "markdown",
   "id": "61870bb7",
   "metadata": {},
   "source": [
    "## Save Cleaned Data (Optional)"
   ]
  },
  {
   "cell_type": "code",
   "execution_count": null,
   "id": "5b3071c6",
   "metadata": {},
   "outputs": [],
   "source": [
    "# Uncomment to save the cleaned DataFrame\n",
    "# output_path = os.path.join(folder_path, 'uber_data_cleaned.csv')\n",
    "# df.to_csv(output_path, index=False)\n",
    "# print(f'Saved cleaned data to {output_path}')"
   ]
  },
  {
   "cell_type": "markdown",
   "id": "92760df8",
   "metadata": {},
   "source": [
    "## Conclusion\n",
    "You now have a foundational analysis of your Uber dataset. You can extend this notebook by adding geospatial visualizations, calculating ride distances, analyzing surge pricing patterns, or forecasting demand with machine learning models. 🚀"
   ]
  }
 ],
 "metadata": {
  "kernelspec": {
   "display_name": "Python 3",
   "language": "python",
   "name": "python3"
  },
  "language_info": {
   "codemirror_mode": {
    "name": "ipython",
    "version": 3
   },
   "file_extension": ".py",
   "mimetype": "text/x-python",
   "name": "python",
   "nbconvert_exporter": "python",
   "pygments_lexer": "ipython3",
   "version": "3.11.4"
  }
 },
 "nbformat": 4,
 "nbformat_minor": 5
}
